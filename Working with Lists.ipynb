{
 "cells": [
  {
   "cell_type": "code",
   "execution_count": 22,
   "metadata": {},
   "outputs": [
    {
     "name": "stdout",
     "output_type": "stream",
     "text": [
      "pressures: [0.273, 0.275, 0.277, 0.275, 0.276]\n",
      "length: 5\n",
      "zeroth item is: 0.273\n"
     ]
    }
   ],
   "source": [
    "pressures = [0.273,0.275,0.277,0.275,0.276]\n",
    "print('pressures:', pressures)\n",
    "print('length:', len(pressures))\n",
    "print('zeroth item is:', pressures[0])"
   ]
  },
  {
   "cell_type": "code",
   "execution_count": 23,
   "metadata": {},
   "outputs": [
    {
     "name": "stdout",
     "output_type": "stream",
     "text": [
      "zeroth item is now: 0.15\n"
     ]
    }
   ],
   "source": [
    "pressures[0] = 0.15\n",
    "print('zeroth item is now:', pressures[0])"
   ]
  },
  {
   "cell_type": "code",
   "execution_count": 24,
   "metadata": {},
   "outputs": [
    {
     "name": "stdout",
     "output_type": "stream",
     "text": [
      "[0.15, 0.275, 0.277, 0.275, 0.276, 0.333]\n"
     ]
    }
   ],
   "source": [
    "pressures.append(0.333)\n",
    "print(pressures)"
   ]
  },
  {
   "cell_type": "code",
   "execution_count": 25,
   "metadata": {},
   "outputs": [
    {
     "name": "stdout",
     "output_type": "stream",
     "text": [
      "[0.15, 0.275, 0.277, 0.275, 0.276, 0.333]\n"
     ]
    }
   ],
   "source": [
    "print(pressures)\n",
    "del pressures[-1]\n",
    "print(pressures)"
   ]
  },
  {
   "cell_type": "markdown",
   "metadata": {},
   "source": [
    "Let's explore 'for' loops!"
   ]
  },
  {
   "cell_type": "code",
   "execution_count": 35,
   "metadata": {},
   "outputs": [
    {
     "name": "stdout",
     "output_type": "stream",
     "text": [
      "0, 0\n",
      "4, 4\n",
      "10, 25\n",
      "20, 100\n"
     ]
    }
   ],
   "source": [
    "for i in [0,2,5,10]:\n",
    "    j = i**2\n",
    "    i *= 2\n",
    "    print(str(i) + ',', str(j))"
   ]
  },
  {
   "cell_type": "code",
   "execution_count": 37,
   "metadata": {},
   "outputs": [
    {
     "name": "stdout",
     "output_type": "stream",
     "text": [
      "The sum of the first x integers will be found. What should be the value of x?200\n",
      "The sum of the first 200 integers is 19900\n"
     ]
    }
   ],
   "source": [
    "# Sum of first x integers\n",
    "\n",
    "# Setting values\n",
    "x = int(input('The sum of the first x integers will be found. What should be the value of x? '))\n",
    "counter = 0\n",
    "\n",
    "for num in range(x):\n",
    "    counter += num\n",
    "    \n",
    "print('The sum of the first', x, 'integers is', counter)"
   ]
  },
  {
   "cell_type": "code",
   "execution_count": 38,
   "metadata": {},
   "outputs": [
    {
     "name": "stdout",
     "output_type": "stream",
     "text": [
      "Hello, WORLD.\n",
      "Hello, WORLD.\n",
      "Hello, WORLD.\n",
      "Hello, WORLD.\n",
      "Hello, WORLD.\n",
      "Hello, WORLD.\n",
      "Hello, WORLD.\n",
      "Hello, WORLD.\n",
      "Hello, WORLD.\n",
      "Hello, WORLD.\n",
      "10\n"
     ]
    }
   ],
   "source": [
    "count = 0\n",
    "\n",
    "for num in range(10):\n",
    "    count += 1\n",
    "    print('Hello, WORLD.')\n",
    "    \n",
    "print(count)"
   ]
  },
  {
   "cell_type": "code",
   "execution_count": null,
   "metadata": {},
   "outputs": [],
   "source": []
  }
 ],
 "metadata": {
  "kernelspec": {
   "display_name": "Python 3",
   "language": "python",
   "name": "python3"
  },
  "language_info": {
   "codemirror_mode": {
    "name": "ipython",
    "version": 3
   },
   "file_extension": ".py",
   "mimetype": "text/x-python",
   "name": "python",
   "nbconvert_exporter": "python",
   "pygments_lexer": "ipython3",
   "version": "3.6.5"
  }
 },
 "nbformat": 4,
 "nbformat_minor": 2
}
